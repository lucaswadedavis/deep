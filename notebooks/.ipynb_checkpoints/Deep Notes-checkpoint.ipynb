{
 "cells": [
  {
   "cell_type": "markdown",
   "metadata": {},
   "source": [
    "# Clayton is a Machine Learning Expert at Yahoo\n",
    "- Object recognition models\n",
    "- Face recognition for celebrities\n",
    "- Smart Cropping\n",
    "- Aesthetic Prediction"
   ]
  },
  {
   "cell_type": "markdown",
   "metadata": {},
   "source": [
    "## Structure of the Course\n",
    "- What is a NN?\n",
    "- How do we train a NN?\n",
    "- What is it doing?\n",
    "- What are the parts of a complete model?"
   ]
  },
  {
   "cell_type": "markdown",
   "metadata": {
    "collapsed": true
   },
   "source": [
    "# Metanotes about Running Workshops\n",
    "- Jupyter is great\n",
    "- Tons of time is wasted in Environment setup - do everything you can to avoid individual setup"
   ]
  },
  {
   "cell_type": "markdown",
   "metadata": {
    "collapsed": true
   },
   "source": [
    "## Installation Notes\n",
    "- pip install scikit-learn _not_ pip install skit_learn\n",
    "- change the backend from *theano* to *tensorflow* in ~/.keras/keras.json"
   ]
  },
  {
   "cell_type": "code",
   "execution_count": null,
   "metadata": {
    "collapsed": true
   },
   "outputs": [],
   "source": []
  }
 ],
 "metadata": {
  "anaconda-cloud": {},
  "kernelspec": {
   "display_name": "Python [Root]",
   "language": "python",
   "name": "Python [Root]"
  },
  "language_info": {
   "codemirror_mode": {
    "name": "ipython",
    "version": 2
   },
   "file_extension": ".py",
   "mimetype": "text/x-python",
   "name": "python",
   "nbconvert_exporter": "python",
   "pygments_lexer": "ipython2",
   "version": "2.7.12"
  }
 },
 "nbformat": 4,
 "nbformat_minor": 0
}
